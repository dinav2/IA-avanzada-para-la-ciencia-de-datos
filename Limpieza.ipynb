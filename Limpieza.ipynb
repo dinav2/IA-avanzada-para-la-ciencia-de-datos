{
  "nbformat": 4,
  "nbformat_minor": 0,
  "metadata": {
    "colab": {
      "provenance": [],
      "authorship_tag": "ABX9TyMDwgo8iEf7UWcOxLQ2xGbK",
      "include_colab_link": true
    },
    "kernelspec": {
      "name": "python3",
      "display_name": "Python 3"
    },
    "language_info": {
      "name": "python"
    }
  },
  "cells": [
    {
      "cell_type": "markdown",
      "metadata": {
        "id": "view-in-github",
        "colab_type": "text"
      },
      "source": [
        "<a href=\"https://colab.research.google.com/github/dinav2/IA-avanzada-para-la-ciencia-de-datos/blob/main/Limpieza.ipynb\" target=\"_parent\"><img src=\"https://colab.research.google.com/assets/colab-badge.svg\" alt=\"Open In Colab\"/></a>"
      ]
    },
    {
      "cell_type": "markdown",
      "source": [
        "## Importar Librerías"
      ],
      "metadata": {
        "id": "uAsfkCXtUN_7"
      }
    },
    {
      "cell_type": "code",
      "execution_count": 7,
      "metadata": {
        "id": "-vgG402rRzSx"
      },
      "outputs": [],
      "source": [
        "import pandas as pd\n",
        "import numpy as np\n",
        "import matplotlib.pyplot as plt\n",
        "from sklearn.preprocessing import StandardScaler\n",
        "from sklearn.preprocessing import OneHotEncoder\n",
        "\n"
      ]
    },
    {
      "cell_type": "markdown",
      "source": [
        "Funciones"
      ],
      "metadata": {
        "id": "Q4gbc8u6Yjdo"
      }
    },
    {
      "cell_type": "code",
      "source": [
        "def agrupar_categorias(df, threshold=0.01):\n",
        "    cat_cols = df.select_dtypes(include=['object', 'category']).columns\n",
        "    for col in cat_cols:\n",
        "        freqs = df[col].value_counts(normalize=True)\n",
        "        rare_cats = freqs[freqs < threshold].index\n",
        "        df[col] = df[col].apply(lambda x: 'otras' if x in rare_cats else x)\n",
        "    return df"
      ],
      "metadata": {
        "id": "xMoV-tHTYwpa"
      },
      "execution_count": 10,
      "outputs": []
    },
    {
      "cell_type": "code",
      "source": [
        "def one_hot_encode(df):\n",
        "    cat_cols = df.select_dtypes(include=['object', 'category']).columns\n",
        "    encoder = OneHotEncoder(sparse_output=False, drop='first')\n",
        "    encoded = encoder.fit_transform(df[cat_cols])\n",
        "    encoded_df = pd.DataFrame(encoded, columns=encoder.get_feature_names_out(cat_cols), index=df.index)\n",
        "    df = df.drop(columns=cat_cols)\n",
        "    df = pd.concat([df, encoded_df], axis=1)\n",
        "    return df\n",
        ""
      ],
      "metadata": {
        "id": "EoVGyFTGYi_j"
      },
      "execution_count": 11,
      "outputs": []
    },
    {
      "cell_type": "markdown",
      "source": [
        "## Leer Datos"
      ],
      "metadata": {
        "id": "7XirLokBUITF"
      }
    },
    {
      "cell_type": "code",
      "source": [
        "base = pd.read_csv('/content/Base.csv')\n",
        "variantI = pd.read_csv('/content/Variant I.csv')\n",
        "variantII = pd.read_csv('/content/Variant II.csv')\n",
        "variantIII = pd.read_csv('/content/Variant III.csv')\n",
        "variantIV = pd.read_csv('/content/Variant IV.csv')\n",
        "variantV = pd.read_csv('/content/Variant V.csv')"
      ],
      "metadata": {
        "id": "2fjqp8UpT40U"
      },
      "execution_count": 2,
      "outputs": []
    },
    {
      "cell_type": "markdown",
      "source": [
        "## Eliminar Duplicados y Nulos"
      ],
      "metadata": {
        "id": "uTp_NqvjUS7q"
      }
    },
    {
      "cell_type": "code",
      "source": [
        "base = base.drop_duplicates().dropna()\n",
        "variantI = variantI.drop_duplicates().dropna()\n",
        "variantII = variantII.drop_duplicates().dropna()\n",
        "variantIII = variantIII.drop_duplicates().dropna()\n",
        "variantIV = variantIV.drop_duplicates().dropna()\n",
        "variantV = variantV.drop_duplicates().dropna()"
      ],
      "metadata": {
        "id": "LRY-g2V0UV9m"
      },
      "execution_count": 3,
      "outputs": []
    },
    {
      "cell_type": "markdown",
      "source": [
        "## Normalizar"
      ],
      "metadata": {
        "id": "stIxFpxPVG2l"
      }
    },
    {
      "cell_type": "code",
      "source": [
        "\n",
        "scaler = StandardScaler()\n",
        "\n",
        "# Normalizar cada dataframe (solo columnas numéricas)\n",
        "base_num = base.select_dtypes(include=np.number)\n",
        "base[base_num.columns] = scaler.fit_transform(base_num)\n",
        "\n",
        "variantI_num = variantI.select_dtypes(include=np.number)\n",
        "variantI[variantI_num.columns] = scaler.fit_transform(variantI_num)\n",
        "\n",
        "variantII_num = variantII.select_dtypes(include=np.number)\n",
        "variantII[variantII_num.columns] = scaler.fit_transform(variantII_num)\n",
        "\n",
        "variantIII_num = variantIII.select_dtypes(include=np.number)\n",
        "variantIII[variantIII_num.columns] = scaler.fit_transform(variantIII_num)\n",
        "\n",
        "variantIV_num = variantIV.select_dtypes(include=np.number)\n",
        "variantIV[variantIV_num.columns] = scaler.fit_transform(variantIV_num)\n",
        "\n",
        "variantV_num = variantV.select_dtypes(include=np.number)\n",
        "variantV[variantV_num.columns] = scaler.fit_transform(variantV_num)"
      ],
      "metadata": {
        "id": "_AYsD1XKVWsR"
      },
      "execution_count": 12,
      "outputs": []
    },
    {
      "cell_type": "code",
      "source": [
        "base = agrupar_categorias(base)\n",
        "variantI = agrupar_categorias(variantI)\n",
        "variantII = agrupar_categorias(variantII)\n",
        "variantIII = agrupar_categorias(variantIII)\n",
        "variantIV = agrupar_categorias(variantIV)\n",
        "variantV = agrupar_categorias(variantV)"
      ],
      "metadata": {
        "id": "HovhKN1iXaDE"
      },
      "execution_count": 13,
      "outputs": []
    },
    {
      "cell_type": "markdown",
      "source": [
        "One Hot encoder"
      ],
      "metadata": {
        "id": "PXRxa0EgV5eY"
      }
    },
    {
      "cell_type": "code",
      "source": [
        "base = one_hot_encode(base)\n",
        "variantI = one_hot_encode(variantI)\n",
        "variantII = one_hot_encode(variantII)\n",
        "variantIII = one_hot_encode(variantIII)\n",
        "variantIV = one_hot_encode(variantIV)\n",
        "variantV = one_hot_encode(variantV)"
      ],
      "metadata": {
        "id": "bs02CVARXirn"
      },
      "execution_count": 14,
      "outputs": []
    }
  ]
}